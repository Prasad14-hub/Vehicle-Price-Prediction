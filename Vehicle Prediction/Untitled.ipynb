{
 "cells": [
  {
   "cell_type": "code",
   "execution_count": 9,
   "metadata": {},
   "outputs": [],
   "source": [
    "import pandas as pd"
   ]
  },
  {
   "cell_type": "code",
   "execution_count": 10,
   "metadata": {},
   "outputs": [],
   "source": [
    "df=pd.read_csv('eso.csv')"
   ]
  },
  {
   "cell_type": "code",
   "execution_count": 11,
   "metadata": {},
   "outputs": [
    {
     "data": {
      "text/html": [
       "<div>\n",
       "<style scoped>\n",
       "    .dataframe tbody tr th:only-of-type {\n",
       "        vertical-align: middle;\n",
       "    }\n",
       "\n",
       "    .dataframe tbody tr th {\n",
       "        vertical-align: top;\n",
       "    }\n",
       "\n",
       "    .dataframe thead th {\n",
       "        text-align: right;\n",
       "    }\n",
       "</style>\n",
       "<table border=\"1\" class=\"dataframe\">\n",
       "  <thead>\n",
       "    <tr style=\"text-align: right;\">\n",
       "      <th></th>\n",
       "      <th>Admn No</th>\n",
       "      <th>Student Name</th>\n",
       "      <th>Course</th>\n",
       "      <th>Branch</th>\n",
       "      <th>Course Code</th>\n",
       "      <th>Course Name</th>\n",
       "      <th>Institute Email ID</th>\n",
       "      <th>Personal Email ID</th>\n",
       "    </tr>\n",
       "  </thead>\n",
       "  <tbody>\n",
       "    <tr>\n",
       "      <th>0</th>\n",
       "      <td>19JE0032</td>\n",
       "      <td>Abhishek Kumar Jain</td>\n",
       "      <td>b.tech</td>\n",
       "      <td>cse</td>\n",
       "      <td>ECE301</td>\n",
       "      <td>Analog Interface Electronics</td>\n",
       "      <td>abhishek.19JE0032@cse.iitism.ac.in</td>\n",
       "      <td>a0000000j000@gmail.com</td>\n",
       "    </tr>\n",
       "    <tr>\n",
       "      <th>1</th>\n",
       "      <td>19JE0037</td>\n",
       "      <td>Abhishek  Singh</td>\n",
       "      <td>b.tech</td>\n",
       "      <td>cse</td>\n",
       "      <td>ECE301</td>\n",
       "      <td>Analog Interface Electronics</td>\n",
       "      <td>abhishek.19JE0037@cse.iitism.ac.in</td>\n",
       "      <td>abhime512@gmail.com</td>\n",
       "    </tr>\n",
       "    <tr>\n",
       "      <th>2</th>\n",
       "      <td>19JE0044</td>\n",
       "      <td>Abid  Ansari</td>\n",
       "      <td>b.tech</td>\n",
       "      <td>ece</td>\n",
       "      <td>ECE301</td>\n",
       "      <td>Analog Interface Electronics</td>\n",
       "      <td>abid.19JE0044@ece.iitism.ac.in</td>\n",
       "      <td>birushahid@gmail.com</td>\n",
       "    </tr>\n",
       "    <tr>\n",
       "      <th>3</th>\n",
       "      <td>19JE0046</td>\n",
       "      <td>Abir  Basumatary</td>\n",
       "      <td>b.tech</td>\n",
       "      <td>ece</td>\n",
       "      <td>ECE301</td>\n",
       "      <td>Analog Interface Electronics</td>\n",
       "      <td>abir.19JE0046@ece.iitism.ac.in</td>\n",
       "      <td>adaramb71@gmail.com</td>\n",
       "    </tr>\n",
       "    <tr>\n",
       "      <th>4</th>\n",
       "      <td>19je0062</td>\n",
       "      <td>Aditya  Kaushik</td>\n",
       "      <td>b.tech</td>\n",
       "      <td>ep</td>\n",
       "      <td>ECE301</td>\n",
       "      <td>Analog Interface Electronics</td>\n",
       "      <td>ak6118.19JE0062@ap.iitism.ac.in</td>\n",
       "      <td>adityakaushik19092000@gmail.com</td>\n",
       "    </tr>\n",
       "  </tbody>\n",
       "</table>\n",
       "</div>"
      ],
      "text/plain": [
       "    Admn No         Student Name  Course Branch Course Code  \\\n",
       "0  19JE0032  Abhishek Kumar Jain  b.tech    cse      ECE301   \n",
       "1  19JE0037      Abhishek  Singh  b.tech    cse      ECE301   \n",
       "2  19JE0044         Abid  Ansari  b.tech    ece      ECE301   \n",
       "3  19JE0046     Abir  Basumatary  b.tech    ece      ECE301   \n",
       "4  19je0062      Aditya  Kaushik  b.tech     ep      ECE301   \n",
       "\n",
       "                     Course Name                  Institute Email ID  \\\n",
       "0  Analog Interface Electronics   abhishek.19JE0032@cse.iitism.ac.in   \n",
       "1  Analog Interface Electronics   abhishek.19JE0037@cse.iitism.ac.in   \n",
       "2  Analog Interface Electronics       abid.19JE0044@ece.iitism.ac.in   \n",
       "3  Analog Interface Electronics       abir.19JE0046@ece.iitism.ac.in   \n",
       "4  Analog Interface Electronics      ak6118.19JE0062@ap.iitism.ac.in   \n",
       "\n",
       "                 Personal Email ID  \n",
       "0           a0000000j000@gmail.com  \n",
       "1              abhime512@gmail.com  \n",
       "2             birushahid@gmail.com  \n",
       "3              adaramb71@gmail.com  \n",
       "4  adityakaushik19092000@gmail.com  "
      ]
     },
     "execution_count": 11,
     "metadata": {},
     "output_type": "execute_result"
    }
   ],
   "source": [
    "df.head()"
   ]
  },
  {
   "cell_type": "code",
   "execution_count": 19,
   "metadata": {},
   "outputs": [
    {
     "data": {
      "text/plain": [
       "cse     127.0\n",
       "ece     114.0\n",
       "ee      111.0\n",
       "mech     98.0\n",
       "me       88.0\n",
       "pe       84.5\n",
       "m&c      51.0\n",
       "civ      48.0\n",
       "mme      40.0\n",
       "ce       37.0\n",
       "env      32.0\n",
       "mle      29.0\n",
       "ep       21.5\n",
       "agp      15.0\n",
       "agl      14.0\n",
       "Name: Branch, dtype: float64"
      ]
     },
     "execution_count": 19,
     "metadata": {},
     "output_type": "execute_result"
    }
   ],
   "source": [
    "a=df['Branch'].value_counts()\n",
    "a/2"
   ]
  },
  {
   "cell_type": "code",
   "execution_count": null,
   "metadata": {},
   "outputs": [],
   "source": []
  }
 ],
 "metadata": {
  "kernelspec": {
   "display_name": "Python 3",
   "language": "python",
   "name": "python3"
  },
  "language_info": {
   "codemirror_mode": {
    "name": "ipython",
    "version": 3
   },
   "file_extension": ".py",
   "mimetype": "text/x-python",
   "name": "python",
   "nbconvert_exporter": "python",
   "pygments_lexer": "ipython3",
   "version": "3.8.4"
  }
 },
 "nbformat": 4,
 "nbformat_minor": 4
}
